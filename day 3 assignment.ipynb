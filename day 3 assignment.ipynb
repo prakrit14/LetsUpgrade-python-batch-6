{
 "cells": [
  {
   "cell_type": "markdown",
   "metadata": {},
   "source": [
    "### Q1. sum of n numbers using while loop"
   ]
  },
  {
   "cell_type": "code",
   "execution_count": 3,
   "metadata": {},
   "outputs": [
    {
     "name": "stdout",
     "output_type": "stream",
     "text": [
      "put a number: 5\n",
      "the some of n natural numbers till 5 is 15\n"
     ]
    }
   ],
   "source": [
    "n=input('put a number: ')\n",
    "n1=n\n",
    "n=int(n)\n",
    "sum=0\n",
    "while n>0:\n",
    "    sum=sum+n \n",
    "    n=n-1\n",
    "      \n",
    "print(f'the some of n natural numbers till {n1} is {sum}')"
   ]
  },
  {
   "cell_type": "markdown",
   "metadata": {},
   "source": [
    "### Q2. prime number checker"
   ]
  },
  {
   "cell_type": "code",
   "execution_count": 49,
   "metadata": {},
   "outputs": [
    {
     "name": "stdout",
     "output_type": "stream",
     "text": [
      "give the number: 23\n",
      "prime number\n"
     ]
    }
   ],
   "source": [
    "num=int(input('give the number: '))\n",
    "for i in range(2,num):\n",
    "    if num>1:\n",
    "        \n",
    "        if num%i==0:\n",
    "            print('not a prime number')\n",
    "            break\n",
    "else:\n",
    "        print('prime number')"
   ]
  }
 ],
 "metadata": {
  "kernelspec": {
   "display_name": "Python 3",
   "language": "python",
   "name": "python3"
  },
  "language_info": {
   "codemirror_mode": {
    "name": "ipython",
    "version": 3
   },
   "file_extension": ".py",
   "mimetype": "text/x-python",
   "name": "python",
   "nbconvert_exporter": "python",
   "pygments_lexer": "ipython3",
   "version": "3.7.6"
  }
 },
 "nbformat": 4,
 "nbformat_minor": 4
}
