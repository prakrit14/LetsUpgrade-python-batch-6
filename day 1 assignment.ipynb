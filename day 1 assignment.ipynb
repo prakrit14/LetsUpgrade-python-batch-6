{
 "cells": [
  {
   "cell_type": "markdown",
   "metadata": {},
   "source": [
    "this is the assignment for the first day...\n",
    "\n",
    "\n",
    "1. What is Python? What are the ways to install Python in your PC??\n",
    "\n",
    "Ans. Python is a high-level programming language. It is easy to learn ,syntactically easier, and has a large amount of open source libraries.Python was developed by Guido Van Rossum in the year 1991 and started gaining popularity in 2006 when it was adopted by Google. It can be used for various purposes including artificial intelligence,machine learning,deep learning,Web Development etc.\n",
    "\n",
    "Different ways to install Python are:\n",
    "1. Install Python from its official site.\n",
    "2. download anaconda which provides an all in one package for Python and its development.\n",
    "\n",
    "\n",
    "2. What are Code Environments?What are their types?\n",
    "\n",
    "A code environment is a workspace which enables you to write your code,compile and execute your code.\n",
    "\n",
    "Three major types of code environments are :\n",
    "1.Text Editors\n",
    "e.g-VS Code and Atom\n",
    "2.Full IDE\n",
    "e.g- Pycharm and Spyder\n",
    "3.Notebook Environment\n",
    "e.g- Jupyter Notebook\n",
    "\n",
    "\n",
    "\n",
    "link for the first day assignmet on the python community on LetsUpgrade:\n",
    "https://community.letsupgrade.in/post/1-what-is-python-what-are-the-ways-to-install-python-in-your-pc-ans-python---5f157daf2d7b7d0ca45fc9af"
   ]
  }
 ],
 "metadata": {
  "kernelspec": {
   "display_name": "Python 3",
   "language": "python",
   "name": "python3"
  },
  "language_info": {
   "codemirror_mode": {
    "name": "ipython",
    "version": 3
   },
   "file_extension": ".py",
   "mimetype": "text/x-python",
   "name": "python",
   "nbconvert_exporter": "python",
   "pygments_lexer": "ipython3",
   "version": "3.7.6"
  }
 },
 "nbformat": 4,
 "nbformat_minor": 4
}
